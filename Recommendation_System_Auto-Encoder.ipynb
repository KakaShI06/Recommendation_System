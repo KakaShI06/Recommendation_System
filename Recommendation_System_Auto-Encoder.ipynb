{
 "cells": [
  {
   "cell_type": "code",
   "execution_count": 1,
   "metadata": {},
   "outputs": [],
   "source": [
    "import numpy as np\n",
    "import pandas as pd"
   ]
  },
  {
   "cell_type": "code",
   "execution_count": 2,
   "metadata": {},
   "outputs": [],
   "source": [
    "movies = pd.read_csv('ml-1m/movies.dat', sep = '::', header = None, engine = 'python', encoding = 'latin-1')\n",
    "users = pd.read_csv('ml-1m/users.dat', sep = '::', header = None, engine = 'python', encoding = 'latin-1')\n",
    "ratings = pd.read_csv('ml-1m/ratings.dat', sep = '::', header = None, engine = 'python', encoding = 'latin-1')"
   ]
  },
  {
   "cell_type": "code",
   "execution_count": 3,
   "metadata": {},
   "outputs": [
    {
     "data": {
      "text/html": [
       "<div>\n",
       "<style scoped>\n",
       "    .dataframe tbody tr th:only-of-type {\n",
       "        vertical-align: middle;\n",
       "    }\n",
       "\n",
       "    .dataframe tbody tr th {\n",
       "        vertical-align: top;\n",
       "    }\n",
       "\n",
       "    .dataframe thead th {\n",
       "        text-align: right;\n",
       "    }\n",
       "</style>\n",
       "<table border=\"1\" class=\"dataframe\">\n",
       "  <thead>\n",
       "    <tr style=\"text-align: right;\">\n",
       "      <th></th>\n",
       "      <th>0</th>\n",
       "      <th>1</th>\n",
       "      <th>2</th>\n",
       "    </tr>\n",
       "  </thead>\n",
       "  <tbody>\n",
       "    <tr>\n",
       "      <th>0</th>\n",
       "      <td>1</td>\n",
       "      <td>Toy Story (1995)</td>\n",
       "      <td>Animation|Children's|Comedy</td>\n",
       "    </tr>\n",
       "    <tr>\n",
       "      <th>1</th>\n",
       "      <td>2</td>\n",
       "      <td>Jumanji (1995)</td>\n",
       "      <td>Adventure|Children's|Fantasy</td>\n",
       "    </tr>\n",
       "    <tr>\n",
       "      <th>2</th>\n",
       "      <td>3</td>\n",
       "      <td>Grumpier Old Men (1995)</td>\n",
       "      <td>Comedy|Romance</td>\n",
       "    </tr>\n",
       "    <tr>\n",
       "      <th>3</th>\n",
       "      <td>4</td>\n",
       "      <td>Waiting to Exhale (1995)</td>\n",
       "      <td>Comedy|Drama</td>\n",
       "    </tr>\n",
       "    <tr>\n",
       "      <th>4</th>\n",
       "      <td>5</td>\n",
       "      <td>Father of the Bride Part II (1995)</td>\n",
       "      <td>Comedy</td>\n",
       "    </tr>\n",
       "  </tbody>\n",
       "</table>\n",
       "</div>"
      ],
      "text/plain": [
       "   0                                   1                             2\n",
       "0  1                    Toy Story (1995)   Animation|Children's|Comedy\n",
       "1  2                      Jumanji (1995)  Adventure|Children's|Fantasy\n",
       "2  3             Grumpier Old Men (1995)                Comedy|Romance\n",
       "3  4            Waiting to Exhale (1995)                  Comedy|Drama\n",
       "4  5  Father of the Bride Part II (1995)                        Comedy"
      ]
     },
     "execution_count": 3,
     "metadata": {},
     "output_type": "execute_result"
    }
   ],
   "source": [
    "movies.head()"
   ]
  },
  {
   "cell_type": "code",
   "execution_count": 4,
   "metadata": {},
   "outputs": [
    {
     "data": {
      "text/html": [
       "<div>\n",
       "<style scoped>\n",
       "    .dataframe tbody tr th:only-of-type {\n",
       "        vertical-align: middle;\n",
       "    }\n",
       "\n",
       "    .dataframe tbody tr th {\n",
       "        vertical-align: top;\n",
       "    }\n",
       "\n",
       "    .dataframe thead th {\n",
       "        text-align: right;\n",
       "    }\n",
       "</style>\n",
       "<table border=\"1\" class=\"dataframe\">\n",
       "  <thead>\n",
       "    <tr style=\"text-align: right;\">\n",
       "      <th></th>\n",
       "      <th>0</th>\n",
       "      <th>1</th>\n",
       "      <th>2</th>\n",
       "      <th>3</th>\n",
       "      <th>4</th>\n",
       "    </tr>\n",
       "  </thead>\n",
       "  <tbody>\n",
       "    <tr>\n",
       "      <th>0</th>\n",
       "      <td>1</td>\n",
       "      <td>F</td>\n",
       "      <td>1</td>\n",
       "      <td>10</td>\n",
       "      <td>48067</td>\n",
       "    </tr>\n",
       "    <tr>\n",
       "      <th>1</th>\n",
       "      <td>2</td>\n",
       "      <td>M</td>\n",
       "      <td>56</td>\n",
       "      <td>16</td>\n",
       "      <td>70072</td>\n",
       "    </tr>\n",
       "    <tr>\n",
       "      <th>2</th>\n",
       "      <td>3</td>\n",
       "      <td>M</td>\n",
       "      <td>25</td>\n",
       "      <td>15</td>\n",
       "      <td>55117</td>\n",
       "    </tr>\n",
       "    <tr>\n",
       "      <th>3</th>\n",
       "      <td>4</td>\n",
       "      <td>M</td>\n",
       "      <td>45</td>\n",
       "      <td>7</td>\n",
       "      <td>02460</td>\n",
       "    </tr>\n",
       "    <tr>\n",
       "      <th>4</th>\n",
       "      <td>5</td>\n",
       "      <td>M</td>\n",
       "      <td>25</td>\n",
       "      <td>20</td>\n",
       "      <td>55455</td>\n",
       "    </tr>\n",
       "  </tbody>\n",
       "</table>\n",
       "</div>"
      ],
      "text/plain": [
       "   0  1   2   3      4\n",
       "0  1  F   1  10  48067\n",
       "1  2  M  56  16  70072\n",
       "2  3  M  25  15  55117\n",
       "3  4  M  45   7  02460\n",
       "4  5  M  25  20  55455"
      ]
     },
     "execution_count": 4,
     "metadata": {},
     "output_type": "execute_result"
    }
   ],
   "source": [
    "users.head()"
   ]
  },
  {
   "cell_type": "code",
   "execution_count": 5,
   "metadata": {},
   "outputs": [
    {
     "data": {
      "text/html": [
       "<div>\n",
       "<style scoped>\n",
       "    .dataframe tbody tr th:only-of-type {\n",
       "        vertical-align: middle;\n",
       "    }\n",
       "\n",
       "    .dataframe tbody tr th {\n",
       "        vertical-align: top;\n",
       "    }\n",
       "\n",
       "    .dataframe thead th {\n",
       "        text-align: right;\n",
       "    }\n",
       "</style>\n",
       "<table border=\"1\" class=\"dataframe\">\n",
       "  <thead>\n",
       "    <tr style=\"text-align: right;\">\n",
       "      <th></th>\n",
       "      <th>0</th>\n",
       "      <th>1</th>\n",
       "      <th>2</th>\n",
       "      <th>3</th>\n",
       "    </tr>\n",
       "  </thead>\n",
       "  <tbody>\n",
       "    <tr>\n",
       "      <th>0</th>\n",
       "      <td>1</td>\n",
       "      <td>1193</td>\n",
       "      <td>5</td>\n",
       "      <td>978300760</td>\n",
       "    </tr>\n",
       "    <tr>\n",
       "      <th>1</th>\n",
       "      <td>1</td>\n",
       "      <td>661</td>\n",
       "      <td>3</td>\n",
       "      <td>978302109</td>\n",
       "    </tr>\n",
       "    <tr>\n",
       "      <th>2</th>\n",
       "      <td>1</td>\n",
       "      <td>914</td>\n",
       "      <td>3</td>\n",
       "      <td>978301968</td>\n",
       "    </tr>\n",
       "    <tr>\n",
       "      <th>3</th>\n",
       "      <td>1</td>\n",
       "      <td>3408</td>\n",
       "      <td>4</td>\n",
       "      <td>978300275</td>\n",
       "    </tr>\n",
       "    <tr>\n",
       "      <th>4</th>\n",
       "      <td>1</td>\n",
       "      <td>2355</td>\n",
       "      <td>5</td>\n",
       "      <td>978824291</td>\n",
       "    </tr>\n",
       "  </tbody>\n",
       "</table>\n",
       "</div>"
      ],
      "text/plain": [
       "   0     1  2          3\n",
       "0  1  1193  5  978300760\n",
       "1  1   661  3  978302109\n",
       "2  1   914  3  978301968\n",
       "3  1  3408  4  978300275\n",
       "4  1  2355  5  978824291"
      ]
     },
     "execution_count": 5,
     "metadata": {},
     "output_type": "execute_result"
    }
   ],
   "source": [
    "ratings.head()"
   ]
  },
  {
   "cell_type": "code",
   "execution_count": 6,
   "metadata": {},
   "outputs": [],
   "source": [
    "# Preparing the training set and the test set\n",
    "training_set = pd.read_csv('ml-100k/u1.base', delimiter = '\\t')\n",
    "training_set = np.array(training_set, dtype = 'int')\n",
    "test_set = pd.read_csv('ml-100k/u1.test', delimiter = '\\t')\n",
    "test_set = np.array(test_set, dtype = 'int')"
   ]
  },
  {
   "cell_type": "code",
   "execution_count": 7,
   "metadata": {},
   "outputs": [
    {
     "data": {
      "text/plain": [
       "array([[        1,         2,         3, 876893171],\n",
       "       [        1,         3,         4, 878542960],\n",
       "       [        1,         4,         3, 876893119],\n",
       "       ...,\n",
       "       [      943,      1188,         3, 888640250],\n",
       "       [      943,      1228,         3, 888640275],\n",
       "       [      943,      1330,         3, 888692465]])"
      ]
     },
     "execution_count": 7,
     "metadata": {},
     "output_type": "execute_result"
    }
   ],
   "source": [
    "training_set"
   ]
  },
  {
   "cell_type": "code",
   "execution_count": 8,
   "metadata": {},
   "outputs": [
    {
     "data": {
      "text/plain": [
       "(79999, 19999)"
      ]
     },
     "execution_count": 8,
     "metadata": {},
     "output_type": "execute_result"
    }
   ],
   "source": [
    "len(training_set), len(test_set)"
   ]
  },
  {
   "cell_type": "code",
   "execution_count": 9,
   "metadata": {},
   "outputs": [],
   "source": [
    "# Getting the number of users and movies\n",
    "nb_users = int(max(max(training_set[:,0]), max(test_set[:,0])))\n",
    "nb_movies = int(max(max(training_set[:,1]), max(test_set[:,1])))"
   ]
  },
  {
   "cell_type": "code",
   "execution_count": 10,
   "metadata": {},
   "outputs": [
    {
     "data": {
      "text/plain": [
       "(943, 1682)"
      ]
     },
     "execution_count": 10,
     "metadata": {},
     "output_type": "execute_result"
    }
   ],
   "source": [
    "nb_users, nb_movies"
   ]
  },
  {
   "cell_type": "code",
   "execution_count": 11,
   "metadata": {},
   "outputs": [],
   "source": [
    "# Converting the data into an array with users in lines and movies in columns\n",
    "def convert(data):\n",
    "    new_data = []\n",
    "    for id_users in range(1, nb_users + 1):\n",
    "        id_movies = data[:,1][data[:,0] == id_users]\n",
    "        id_ratings = data[:,2][data[:,0] == id_users]\n",
    "        ratings = np.zeros(nb_movies)\n",
    "        ratings[id_movies - 1] = id_ratings\n",
    "        new_data.append(list(ratings))\n",
    "    return new_data"
   ]
  },
  {
   "cell_type": "code",
   "execution_count": 12,
   "metadata": {},
   "outputs": [],
   "source": [
    "training_set = convert(training_set)\n",
    "test_set = convert(test_set)"
   ]
  },
  {
   "cell_type": "code",
   "execution_count": 13,
   "metadata": {},
   "outputs": [
    {
     "data": {
      "text/plain": [
       "(943, 1682)"
      ]
     },
     "execution_count": 13,
     "metadata": {},
     "output_type": "execute_result"
    }
   ],
   "source": [
    "len(training_set), len(training_set[0])"
   ]
  },
  {
   "cell_type": "code",
   "execution_count": 14,
   "metadata": {},
   "outputs": [],
   "source": [
    "import torch\n",
    "import torch.nn as nn\n",
    "import torch.nn.parallel\n",
    "import torch.optim as optim\n",
    "import torch.utils.data\n",
    "from torch.autograd import Variable"
   ]
  },
  {
   "cell_type": "code",
   "execution_count": 15,
   "metadata": {},
   "outputs": [],
   "source": [
    "# Converting the data into Torch tensors\n",
    "training_set = torch.FloatTensor(training_set)\n",
    "test_set = torch.FloatTensor(test_set)"
   ]
  },
  {
   "cell_type": "code",
   "execution_count": 16,
   "metadata": {},
   "outputs": [
    {
     "data": {
      "text/plain": [
       "tensor([[0., 3., 4.,  ..., 0., 0., 0.],\n",
       "        [4., 0., 0.,  ..., 0., 0., 0.],\n",
       "        [0., 0., 0.,  ..., 0., 0., 0.],\n",
       "        ...,\n",
       "        [5., 0., 0.,  ..., 0., 0., 0.],\n",
       "        [0., 0., 0.,  ..., 0., 0., 0.],\n",
       "        [0., 5., 0.,  ..., 0., 0., 0.]])"
      ]
     },
     "execution_count": 16,
     "metadata": {},
     "output_type": "execute_result"
    }
   ],
   "source": [
    "training_set"
   ]
  },
  {
   "cell_type": "code",
   "execution_count": 19,
   "metadata": {},
   "outputs": [],
   "source": [
    "# Creating the architecture of the Neural Network\n",
    "class SAE(nn.Module):\n",
    "    def __init__(self, ):\n",
    "        super(SAE, self).__init__()\n",
    "        self.fc1 = nn.Linear(nb_movies, 20)\n",
    "        self.fc2 = nn.Linear(20, 10)\n",
    "        self.fc3 = nn.Linear(10, 20)\n",
    "        self.fc4 = nn.Linear(20, nb_movies)\n",
    "        self.activation = nn.Sigmoid()\n",
    "    def forward(self, x):\n",
    "        x = self.activation(self.fc1(x))\n",
    "        x = self.activation(self.fc2(x))\n",
    "        x = self.activation(self.fc3(x))\n",
    "        x = self.fc4(x)\n",
    "        return x        "
   ]
  },
  {
   "cell_type": "code",
   "execution_count": 20,
   "metadata": {},
   "outputs": [],
   "source": [
    "sae= SAE()\n",
    "criterion= nn.MSELoss()\n",
    "optimizer= optim.RMSprop(sae.parameters(), lr= 0.01, weight_decay= 0.5)"
   ]
  },
  {
   "cell_type": "code",
   "execution_count": 24,
   "metadata": {},
   "outputs": [
    {
     "name": "stdout",
     "output_type": "stream",
     "text": [
      "epoch: 1 loss: 1.7583263917200014\n",
      "epoch: 2 loss: 1.0963283083430562\n",
      "epoch: 3 loss: 1.05347739275817\n",
      "epoch: 4 loss: 1.0383581445797263\n",
      "epoch: 5 loss: 1.0310265374080398\n",
      "epoch: 6 loss: 1.0266895440452772\n",
      "epoch: 7 loss: 1.023987697090111\n",
      "epoch: 8 loss: 1.0219857566244261\n",
      "epoch: 9 loss: 1.0208261271925623\n",
      "epoch: 10 loss: 1.0195918382866664\n",
      "epoch: 11 loss: 1.0188355703664578\n",
      "epoch: 12 loss: 1.0183128383192446\n",
      "epoch: 13 loss: 1.0179402524570444\n",
      "epoch: 14 loss: 1.0174646952432604\n",
      "epoch: 15 loss: 1.0172775415348305\n",
      "epoch: 16 loss: 1.0168727682458616\n",
      "epoch: 17 loss: 1.0168916149510852\n",
      "epoch: 18 loss: 1.016395592012699\n",
      "epoch: 19 loss: 1.016181462330032\n",
      "epoch: 20 loss: 1.0162485952858893\n",
      "epoch: 21 loss: 1.0162247474587383\n",
      "epoch: 22 loss: 1.0158166519200211\n",
      "epoch: 23 loss: 1.0161393591506875\n",
      "epoch: 24 loss: 1.0157251506552685\n",
      "epoch: 25 loss: 1.0157769897699278\n",
      "epoch: 26 loss: 1.015758369436124\n",
      "epoch: 27 loss: 1.0153941118595124\n",
      "epoch: 28 loss: 1.015050328884517\n",
      "epoch: 29 loss: 1.0126472794718866\n",
      "epoch: 30 loss: 1.0116038896129567\n",
      "epoch: 31 loss: 1.009857326512501\n",
      "epoch: 32 loss: 1.0073281322625471\n",
      "epoch: 33 loss: 1.0069394636958706\n",
      "epoch: 34 loss: 1.0028111108996818\n",
      "epoch: 35 loss: 1.0015430283293365\n",
      "epoch: 36 loss: 0.9990054332037402\n",
      "epoch: 37 loss: 0.996938803223046\n",
      "epoch: 38 loss: 0.9956649855167194\n",
      "epoch: 39 loss: 0.9954710462613902\n",
      "epoch: 40 loss: 0.9946983988864522\n",
      "epoch: 41 loss: 0.9912297575183309\n",
      "epoch: 42 loss: 0.9883467707281167\n",
      "epoch: 43 loss: 0.9889559924586353\n",
      "epoch: 44 loss: 0.9849745350741052\n",
      "epoch: 45 loss: 0.9839918680671307\n",
      "epoch: 46 loss: 0.9780469548426846\n",
      "epoch: 47 loss: 0.9857224516619182\n",
      "epoch: 48 loss: 0.9815243939999378\n",
      "epoch: 49 loss: 0.9838197014615033\n",
      "epoch: 50 loss: 0.980153313478019\n",
      "epoch: 51 loss: 0.9875528653626912\n",
      "epoch: 52 loss: 0.9812142099405425\n",
      "epoch: 53 loss: 0.9813321919229234\n",
      "epoch: 54 loss: 0.9801192472659156\n",
      "epoch: 55 loss: 0.9768266709782132\n",
      "epoch: 56 loss: 0.9746185653049111\n",
      "epoch: 57 loss: 0.9761113778175209\n",
      "epoch: 58 loss: 0.9733741471985775\n",
      "epoch: 59 loss: 0.9695187886330361\n",
      "epoch: 60 loss: 0.9670108924934017\n",
      "epoch: 61 loss: 0.9704555845385495\n",
      "epoch: 62 loss: 0.9706680192072922\n",
      "epoch: 63 loss: 0.9661609486364237\n",
      "epoch: 64 loss: 0.9650552246650882\n",
      "epoch: 65 loss: 0.966830448067547\n",
      "epoch: 66 loss: 0.9612488734828046\n",
      "epoch: 67 loss: 0.9603843429580251\n",
      "epoch: 68 loss: 0.9587274259896639\n",
      "epoch: 69 loss: 0.9565731924625926\n",
      "epoch: 70 loss: 0.9544752315064299\n",
      "epoch: 71 loss: 0.9551062193098715\n",
      "epoch: 72 loss: 0.9539124686282152\n",
      "epoch: 73 loss: 0.9526181200874705\n",
      "epoch: 74 loss: 0.951456947786471\n",
      "epoch: 75 loss: 0.9545054043762374\n",
      "epoch: 76 loss: 0.9519246870181698\n",
      "epoch: 77 loss: 0.9502866417512832\n",
      "epoch: 78 loss: 0.9486650993977781\n",
      "epoch: 79 loss: 0.949823692060321\n",
      "epoch: 80 loss: 0.9480712594694084\n",
      "epoch: 81 loss: 0.947304586914596\n",
      "epoch: 82 loss: 0.9463691525639418\n",
      "epoch: 83 loss: 0.9442501587467682\n",
      "epoch: 84 loss: 0.9440110332993615\n",
      "epoch: 85 loss: 0.9441181360854917\n",
      "epoch: 86 loss: 0.9424437679910367\n",
      "epoch: 87 loss: 0.9431299378336166\n",
      "epoch: 88 loss: 0.9408641724257394\n",
      "epoch: 89 loss: 0.9418259419473193\n",
      "epoch: 90 loss: 0.9401276145578387\n",
      "epoch: 91 loss: 0.9408128300310215\n",
      "epoch: 92 loss: 0.9384575467381423\n",
      "epoch: 93 loss: 0.9389362104710124\n",
      "epoch: 94 loss: 0.9371591683598052\n",
      "epoch: 95 loss: 0.9377667927869515\n",
      "epoch: 96 loss: 0.9361549988233775\n",
      "epoch: 97 loss: 0.9369613186502159\n",
      "epoch: 98 loss: 0.934940999499013\n",
      "epoch: 99 loss: 0.9361392308582546\n",
      "epoch: 100 loss: 0.9345483619820266\n",
      "epoch: 101 loss: 0.9343804569845896\n",
      "epoch: 102 loss: 0.9326429237945074\n",
      "epoch: 103 loss: 0.9336639465564197\n",
      "epoch: 104 loss: 0.9317701701736045\n",
      "epoch: 105 loss: 0.9328504775733346\n",
      "epoch: 106 loss: 0.9305524955569789\n",
      "epoch: 107 loss: 0.9316892358642633\n",
      "epoch: 108 loss: 0.9300775596231751\n",
      "epoch: 109 loss: 0.9309031072856896\n",
      "epoch: 110 loss: 0.92899458092486\n",
      "epoch: 111 loss: 0.9298701127923982\n",
      "epoch: 112 loss: 0.9281686688652941\n",
      "epoch: 113 loss: 0.9292190855138932\n",
      "epoch: 114 loss: 0.9273373179043718\n",
      "epoch: 115 loss: 0.9283325925356831\n",
      "epoch: 116 loss: 0.926745543593716\n",
      "epoch: 117 loss: 0.9275698580831768\n",
      "epoch: 118 loss: 0.9258536487328602\n",
      "epoch: 119 loss: 0.9264724357455766\n",
      "epoch: 120 loss: 0.9249937950313952\n",
      "epoch: 121 loss: 0.9260580161590417\n",
      "epoch: 122 loss: 0.9247026592717004\n",
      "epoch: 123 loss: 0.9247598712366668\n",
      "epoch: 124 loss: 0.9236813115826689\n",
      "epoch: 125 loss: 0.9245428275178251\n",
      "epoch: 126 loss: 0.9232574602331\n",
      "epoch: 127 loss: 0.923744181940473\n",
      "epoch: 128 loss: 0.9226651816480104\n",
      "epoch: 129 loss: 0.9230980563590906\n",
      "epoch: 130 loss: 0.9225988957333804\n",
      "epoch: 131 loss: 0.9226044282262036\n",
      "epoch: 132 loss: 0.9213599711031414\n",
      "epoch: 133 loss: 0.9215187295974322\n",
      "epoch: 134 loss: 0.920997665961336\n",
      "epoch: 135 loss: 0.9210653280135875\n",
      "epoch: 136 loss: 0.9208130632612228\n",
      "epoch: 137 loss: 0.9208350413193587\n",
      "epoch: 138 loss: 0.9204462331228612\n",
      "epoch: 139 loss: 0.9204086174079109\n",
      "epoch: 140 loss: 0.9197840771860363\n",
      "epoch: 141 loss: 0.9201119186432755\n",
      "epoch: 142 loss: 0.9193496400100052\n",
      "epoch: 143 loss: 0.9190046180346242\n",
      "epoch: 144 loss: 0.9189553495614153\n",
      "epoch: 145 loss: 0.9189087738304713\n",
      "epoch: 146 loss: 0.9186574787154128\n",
      "epoch: 147 loss: 0.9186996194333715\n",
      "epoch: 148 loss: 0.9182685938635722\n",
      "epoch: 149 loss: 0.9181937366830868\n",
      "epoch: 150 loss: 0.917943586744827\n",
      "epoch: 151 loss: 0.9178054872158752\n",
      "epoch: 152 loss: 0.9175176832941841\n",
      "epoch: 153 loss: 0.9173808067658059\n",
      "epoch: 154 loss: 0.9174881887597789\n",
      "epoch: 155 loss: 0.9170407687309025\n",
      "epoch: 156 loss: 0.9169375173360114\n",
      "epoch: 157 loss: 0.916730374502774\n",
      "epoch: 158 loss: 0.9165653242291435\n",
      "epoch: 159 loss: 0.9162774663167291\n",
      "epoch: 160 loss: 0.9164015497855815\n",
      "epoch: 161 loss: 0.9160830250920797\n",
      "epoch: 162 loss: 0.9154094438467638\n",
      "epoch: 163 loss: 0.9153331541446474\n",
      "epoch: 164 loss: 0.9153918440427901\n",
      "epoch: 165 loss: 0.9149478442808211\n",
      "epoch: 166 loss: 0.9143334157551738\n",
      "epoch: 167 loss: 0.9144334282137767\n",
      "epoch: 168 loss: 0.9147938478773916\n",
      "epoch: 169 loss: 0.9141950469430377\n",
      "epoch: 170 loss: 0.914276831969732\n",
      "epoch: 171 loss: 0.9137778205020438\n",
      "epoch: 172 loss: 0.9137304575610218\n",
      "epoch: 173 loss: 0.9135286740203604\n",
      "epoch: 174 loss: 0.9131482441263397\n",
      "epoch: 175 loss: 0.9130615068589973\n",
      "epoch: 176 loss: 0.912425162572759\n",
      "epoch: 177 loss: 0.9118142373409008\n",
      "epoch: 178 loss: 0.9117027826107075\n",
      "epoch: 179 loss: 0.9110244110151453\n",
      "epoch: 180 loss: 0.9111903602260183\n",
      "epoch: 181 loss: 0.9103911891577608\n",
      "epoch: 182 loss: 0.9101887315314445\n",
      "epoch: 183 loss: 0.9093798920900754\n",
      "epoch: 184 loss: 0.9089643598616702\n",
      "epoch: 185 loss: 0.9084368753345525\n",
      "epoch: 186 loss: 0.9083935262641001\n",
      "epoch: 187 loss: 0.9077317113796447\n",
      "epoch: 188 loss: 0.9071589997017777\n",
      "epoch: 189 loss: 0.9070313756115842\n",
      "epoch: 190 loss: 0.9063800448833902\n",
      "epoch: 191 loss: 0.9058139775505893\n",
      "epoch: 192 loss: 0.9052624430759905\n",
      "epoch: 193 loss: 0.9052187423131852\n",
      "epoch: 194 loss: 0.9042775836156053\n",
      "epoch: 195 loss: 0.9044362898829871\n",
      "epoch: 196 loss: 0.9032998303057352\n",
      "epoch: 197 loss: 0.9031108089972487\n",
      "epoch: 198 loss: 0.9016406654854662\n",
      "epoch: 199 loss: 0.9014700159085521\n",
      "epoch: 200 loss: 0.9007737990475978\n"
     ]
    }
   ],
   "source": [
    "#training data-set\n",
    "nb_epoch = 200\n",
    "for epoch in range(1, nb_epoch + 1):\n",
    "    train_loss = 0\n",
    "    s = 0.\n",
    "    for id_user in range(nb_users):\n",
    "        input = Variable(training_set[id_user]).unsqueeze(0)\n",
    "        target = input.clone()\n",
    "        if torch.sum(target.data > 0) > 0:\n",
    "            output = sae(input)\n",
    "            target.require_grad = False\n",
    "            output[target == 0] = 0\n",
    "            loss = criterion(output, target)\n",
    "            mean_corrector = nb_movies/float(torch.sum(target.data > 0) + 1e-10)\n",
    "            loss.backward()\n",
    "            train_loss += np.sqrt(loss.data.item()*mean_corrector)\n",
    "            s += 1.\n",
    "            optimizer.step()\n",
    "    print('epoch: '+str(epoch)+' loss: '+str(train_loss/s))"
   ]
  },
  {
   "cell_type": "code",
   "execution_count": 27,
   "metadata": {},
   "outputs": [
    {
     "name": "stdout",
     "output_type": "stream",
     "text": [
      "test loss: 0.9407666821549455\n"
     ]
    }
   ],
   "source": [
    "#Now the tes part\n",
    "\n",
    "test_loss = 0\n",
    "s = 0.\n",
    "for id_user in range(nb_users):\n",
    "    input = Variable(training_set[id_user]).unsqueeze(0)\n",
    "    target = Variable(test_set[id_user]).unsqueeze(0)\n",
    "    if torch.sum(target.data > 0) > 0:\n",
    "        output = sae(input)\n",
    "        target.require_grad = False\n",
    "        output[target == 0] = 0\n",
    "        loss = criterion(output, target)\n",
    "        mean_corrector = nb_movies/float(torch.sum(target.data > 0) + 1e-10)\n",
    "        test_loss += np.sqrt(loss.data.item()*mean_corrector)\n",
    "        s += 1.\n",
    "print('test loss: '+str(test_loss/s))"
   ]
  },
  {
   "cell_type": "code",
   "execution_count": null,
   "metadata": {},
   "outputs": [],
   "source": []
  }
 ],
 "metadata": {
  "kernelspec": {
   "display_name": "Python 3",
   "language": "python",
   "name": "python3"
  },
  "language_info": {
   "codemirror_mode": {
    "name": "ipython",
    "version": 3
   },
   "file_extension": ".py",
   "mimetype": "text/x-python",
   "name": "python",
   "nbconvert_exporter": "python",
   "pygments_lexer": "ipython3",
   "version": "3.7.6"
  }
 },
 "nbformat": 4,
 "nbformat_minor": 4
}
